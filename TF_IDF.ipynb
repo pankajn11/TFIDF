{
  "nbformat": 4,
  "nbformat_minor": 0,
  "metadata": {
    "colab": {
      "name": "TF IDF",
      "provenance": [],
      "collapsed_sections": []
    },
    "kernelspec": {
      "name": "python3",
      "display_name": "Python 3"
    },
    "language_info": {
      "name": "python"
    }
  },
  "cells": [
    {
      "cell_type": "markdown",
      "source": [
        "Implementation of **TF IDF** from scratch"
      ],
      "metadata": {
        "id": "a4TWRTFmcUDb"
      }
    },
    {
      "cell_type": "code",
      "source": [
        "import numpy as np\n",
        "from collections import Counter\n",
        "import math\n",
        "from sklearn.preprocessing import normalize\n",
        "from scipy.sparse import csr_matrix\n",
        "import warnings"
      ],
      "metadata": {
        "id": "J-V9uXNPcgZ5"
      },
      "execution_count": 30,
      "outputs": []
    },
    {
      "cell_type": "code",
      "source": [
        "def IDF_fun(corpus,word_vector):\n",
        "  val=[]\n",
        "  for word in word_vector:\n",
        "    word_count_in_sen=0\n",
        "    for sentance in corpus:\n",
        "      if word in sentance.split(\" \"):\n",
        "        word_count_in_sen=word_count_in_sen+1\n",
        "      else:\n",
        "        pass\n",
        "    v=(1+len(corpus))/(1+word_count_in_sen)\n",
        "    val.append( 1+math.log(v) )\n",
        "  #print(np.array(val))\n",
        "  return np.array(val)"
      ],
      "metadata": {
        "id": "JAHiSIUEchjh"
      },
      "execution_count": 7,
      "outputs": []
    },
    {
      "cell_type": "code",
      "source": [
        "def Fit(corpus):\n",
        "  unique_words=set()\n",
        "  for sentance in corpus:\n",
        "    for word in sentance.split(\" \"):\n",
        "      if len(word)<2:\n",
        "        continue\n",
        "      unique_words.add(word)\n",
        "  #-------------------------------------------------------\n",
        "  word_vec={word:idx for idx,word in enumerate(sorted(unique_words))}\n",
        "  #------------------------------------------------------------\n",
        "  idf=IDF_fun(corpus,word_vec)\n",
        "  return word_vec,idf\n"
      ],
      "metadata": {
        "id": "sDPksAuscgln"
      },
      "execution_count": 8,
      "outputs": []
    },
    {
      "cell_type": "code",
      "source": [
        "def Transform(corpus,word_vector,IDF):\n",
        "\n",
        "  #IDF=IDF_fun(corpus,word_vector)\n",
        "  col=[]\n",
        "  row=[]\n",
        "  values=[]\n",
        "  for r,sentance in enumerate(corpus):\n",
        "    lst=sentance.split(\" \")\n",
        "    for idx,word in enumerate(word_vector):\n",
        "      if word in lst:\n",
        "        # calculating TF\n",
        "        tf=lst.count(word)/len(lst)\n",
        "        #calculating TFIDF\n",
        "        tfidf=tf*IDF[idx]\n",
        "        #-------------------------------\n",
        "        values.append(tfidf)\n",
        "        col.append(idx)\n",
        "        row.append(r)\n",
        "      else:\n",
        "          pass\n",
        "  #-------------------------------------------------------------------\n",
        "  M=csr_matrix((values,(row,col)),shape=(len(corpus),len(word_vector)))\n",
        "  M=normalize(M)\n",
        "  #print(type(M))  \n",
        "  return M"
      ],
      "metadata": {
        "id": "5DqBYPMxcgsk"
      },
      "execution_count": 9,
      "outputs": []
    },
    {
      "cell_type": "code",
      "source": [
        "corpus = [\n",
        "     'this is the first document',\n",
        "     'this document is the second document',\n",
        "     'and this is the third one',\n",
        "     'is this the first document',]"
      ],
      "metadata": {
        "id": "4nxzYI44c3fF"
      },
      "execution_count": 10,
      "outputs": []
    },
    {
      "cell_type": "code",
      "source": [
        "#--------FIT----------------------\n",
        "Vocab_corpus,IDF_val=Fit(corpus)\n",
        "print(\"Vocab corpus =\\n{}\".format(Vocab_corpus))\n",
        "print()\n",
        "Feature_names=list(Vocab_corpus.keys())\n",
        "print(\"Feature names=\\n{}\".format(Feature_names))\n",
        "print()\n",
        "print(\"IDF Values =\\n{}\".format(IDF_val))"
      ],
      "metadata": {
        "colab": {
          "base_uri": "https://localhost:8080/"
        },
        "id": "hutcEZYVc5vI",
        "outputId": "ff543a32-4d73-4480-9391-b4b2a0fdc6b2"
      },
      "execution_count": 11,
      "outputs": [
        {
          "output_type": "stream",
          "name": "stdout",
          "text": [
            "Vocab corpus =\n",
            "{'and': 0, 'document': 1, 'first': 2, 'is': 3, 'one': 4, 'second': 5, 'the': 6, 'third': 7, 'this': 8}\n",
            "\n",
            "Feature names=\n",
            "['and', 'document', 'first', 'is', 'one', 'second', 'the', 'third', 'this']\n",
            "\n",
            "IDF Values =\n",
            "[1.91629073 1.22314355 1.51082562 1.         1.91629073 1.91629073\n",
            " 1.         1.91629073 1.        ]\n"
          ]
        }
      ]
    },
    {
      "cell_type": "code",
      "source": [
        "#---------Transpose------------------------------\n",
        "Array=Transform(corpus,Feature_names,IDF_val)\n",
        "print()\n",
        "print(\"Shape = {}\".format(Array.shape))\n",
        "print()\n",
        "print(Array[0])\n",
        "print()\n",
        "print(Array[0].toarray())"
      ],
      "metadata": {
        "colab": {
          "base_uri": "https://localhost:8080/"
        },
        "id": "ZOnnXXZ8c70r",
        "outputId": "93bba6e4-89b6-4674-bbc0-b603543640d9"
      },
      "execution_count": 12,
      "outputs": [
        {
          "output_type": "stream",
          "name": "stdout",
          "text": [
            "\n",
            "Shape = (4, 9)\n",
            "\n",
            "  (0, 1)\t0.4697913855799205\n",
            "  (0, 2)\t0.580285823684436\n",
            "  (0, 3)\t0.3840852409148149\n",
            "  (0, 6)\t0.3840852409148149\n",
            "  (0, 8)\t0.3840852409148149\n",
            "\n",
            "[[0.         0.46979139 0.58028582 0.38408524 0.         0.\n",
            "  0.38408524 0.         0.38408524]]\n"
          ]
        }
      ]
    },
    {
      "cell_type": "markdown",
      "source": [
        "**SkLearn TFIDF vectorizer()**"
      ],
      "metadata": {
        "id": "VA7weu06ehSl"
      }
    },
    {
      "cell_type": "code",
      "source": [
        "from sklearn.feature_extraction.text import TfidfVectorizer"
      ],
      "metadata": {
        "id": "XoUiZ9nhemYU"
      },
      "execution_count": 13,
      "outputs": []
    },
    {
      "cell_type": "code",
      "source": [
        "vec=TfidfVectorizer()\n",
        "x=vec.fit_transform(corpus)"
      ],
      "metadata": {
        "id": "7is5AdKtmag7"
      },
      "execution_count": 16,
      "outputs": []
    },
    {
      "cell_type": "code",
      "source": [
        "x.shape"
      ],
      "metadata": {
        "colab": {
          "base_uri": "https://localhost:8080/"
        },
        "id": "zS0HLKGf_ohb",
        "outputId": "3e271f41-0608-4020-a622-044b8cbfec39"
      },
      "execution_count": 27,
      "outputs": [
        {
          "output_type": "execute_result",
          "data": {
            "text/plain": [
              "(4, 9)"
            ]
          },
          "metadata": {},
          "execution_count": 27
        }
      ]
    },
    {
      "cell_type": "code",
      "source": [
        "vec.idf_"
      ],
      "metadata": {
        "colab": {
          "base_uri": "https://localhost:8080/"
        },
        "id": "ZS8oW5rE_jvm",
        "outputId": "daea9fe2-f8f5-4b77-fb62-41f87f3c09da"
      },
      "execution_count": 26,
      "outputs": [
        {
          "output_type": "execute_result",
          "data": {
            "text/plain": [
              "array([1.91629073, 1.22314355, 1.51082562, 1.        , 1.91629073,\n",
              "       1.91629073, 1.        , 1.91629073, 1.        ])"
            ]
          },
          "metadata": {},
          "execution_count": 26
        }
      ]
    },
    {
      "cell_type": "code",
      "source": [
        "vec.get_feature_names_out()"
      ],
      "metadata": {
        "colab": {
          "base_uri": "https://localhost:8080/"
        },
        "id": "a9xr5LOp_BWj",
        "outputId": "9649cb1d-28bd-4121-da0e-18086abeb97c"
      },
      "execution_count": 34,
      "outputs": [
        {
          "output_type": "execute_result",
          "data": {
            "text/plain": [
              "array(['and', 'document', 'first', 'is', 'one', 'second', 'the', 'third',\n",
              "       'this'], dtype=object)"
            ]
          },
          "metadata": {},
          "execution_count": 34
        }
      ]
    },
    {
      "cell_type": "code",
      "source": [
        "print(x[0])"
      ],
      "metadata": {
        "colab": {
          "base_uri": "https://localhost:8080/"
        },
        "id": "DzC5sVLX4d1k",
        "outputId": "1f44f87a-c025-4216-9782-5b3ef4ab0ac0"
      },
      "execution_count": 23,
      "outputs": [
        {
          "output_type": "stream",
          "name": "stdout",
          "text": [
            "  (0, 1)\t0.46979138557992045\n",
            "  (0, 2)\t0.5802858236844359\n",
            "  (0, 6)\t0.38408524091481483\n",
            "  (0, 3)\t0.38408524091481483\n",
            "  (0, 8)\t0.38408524091481483\n"
          ]
        }
      ]
    }
  ]
}